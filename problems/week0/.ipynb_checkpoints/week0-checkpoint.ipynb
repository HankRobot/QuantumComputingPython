{
 "cells": [
  {
   "cell_type": "markdown",
   "metadata": {},
   "source": [
    "# IBM Quantum Challenge 基礎の学習"
   ]
  },
  {
   "cell_type": "markdown",
   "metadata": {},
   "source": [
    "本学習は初心者向けに、まずは量子回路をつかった演算の基礎を学ぶことを目的としています。すでに内容を理解されている方は、この教材は飛ばしていただいてかまいません。（当ドキュメントはIBM Q Experienceの[The weird and wonderful world of the qubit](https://quantum-computing.ibm.com/support/guides/introduction-to-quantum-circuits?section=5cae618666c1694be21df8cd)の抄訳です。）"
   ]
  },
  {
   "cell_type": "markdown",
   "metadata": {},
   "source": [
    "## 量子計算とは？古典計算との比較\n",
    "量子計算とは何かを理解するために、まずは私たちが日頃つかっているデジタルコンピューターと比較して考えてみましょう。<br/>\n",
    "デジタルコンピューターの計算の仕組みもまた、私たちはほとんど意識することはなくなってきています。そこで、デジタルコンピューター（古典コンピューター）がどのように情報を扱っているのかについてみていきましょう。"
   ]
  },
  {
   "cell_type": "markdown",
   "metadata": {},
   "source": [
    "## すべての情報はビットである\n",
    "ビットは世の中のありとあらゆる情報を0または1で表現する情報の最小単位のことです。例えば、私たちが日常的に使用する十進数記法の数字は0, 1, 2, 3, 4, 5, 6, 7, 8. 9の10個の数字の組合せで表現します。各位の値は10の累乗をそれぞれいくつ含んでいるのかを表しています。<br/>\n",
    "<br/>\n",
    "例として **9213** という数字をみてみましょう。<br/><br/>この数字は9000 + 200 + 10 + 3に分解できます。0~9までの各数字に対して、10の累乗をそれぞれいくつ含んでいるのかをみてみますと、<br/>\n",
    "**9213** = **9 x 10<sup>3</sup> + 2 x 10<sup>2</sup> + 1 x 10<sup>1</sup>+ 3 x 10<sup>0</sup>** として表現できます。"
   ]
  },
  {
   "cell_type": "markdown",
   "metadata": {},
   "source": [
    "つづいて、同じ数字を二進数をベースに分解してみましょう。0と1の数字に対して、2の累乗をそれぞれいくつ含んでいるかをみてみますと、<br/>\n",
    "**9213 = 1 x 2<sup>13</sup> + 0 x 2<sup>12</sup> + 0 x 2<sup>11</sup> + 0 x 2<sup>10</sup> + 1 x 2<sup>9</sup> + 1 x 2<sup>8</sup> + 1 x 2<sup>7</sup> + 1 x 2<sup>6</sup> + 1 x 2<sup>5</sup> + 1 x 2<sup>4</sup> + 1 x 2<sup>3</sup> + 1 x 2<sup>2</sup> + 0 x 2<sup>1</sup> + 1 x 2<sup>0</sup>** <br/>\n",
    "に分解することができることから、9213という数字はバイナリで表現すると **10001111111101** になります。"
   ]
  },
  {
   "cell_type": "markdown",
   "metadata": {},
   "source": [
    "任意の数だけではなく、こちらの[テーブル](https://www.ibm.com/support/knowledgecenter/en/ssw_aix_72/network/conversion_table.html)にあるように、様々な文字や記号も0と1のバイナリで表すことができます。この対応表は業界の標準として広く採用されており、この記事がインターネットを通じて読者である皆さんに届けられる際にも用いられています。私たちが知っているコンピューターが扱うすべての情報（e.g. 数字、文字、画像、音声, etc.)は、実はこうしたビット列のかたまりであることを改めて覚えておきましょう。"
   ]
  },
  {
   "cell_type": "markdown",
   "metadata": {},
   "source": [
    "## 8-bitのコンピューターをIBM Q Experienceでつくってみよう"
   ]
  },
  {
   "cell_type": "markdown",
   "metadata": {},
   "source": [
    "量子回路を作成して実行するためのツールにIBM Q Experienceがあります。GUIが五線譜に似ていることから、通称Composerとも呼ばれています。このComposerをつかって8-bitのコンピューターをつくってみましょう。"
   ]
  },
  {
   "cell_type": "markdown",
   "metadata": {},
   "source": [
    "1. (まだお済みでない方は)IBM Q Experienceのページから[アカウント作成](https://quantum-computing.ibm.com/)を行います。\n",
    "2. 中央のCreate a circuitボタンを押してComposerをたちあげます。\n",
    "3. 量子ゲートを直接ドラッグ&ドロップして回路を構築できます。\n",
    "4. 左側のエディターを直接編集して回路を構築することも可能です。"
   ]
  },
  {
   "cell_type": "markdown",
   "metadata": {},
   "source": [
    "![image of composer](./fig/composer01.png)"
   ]
  },
  {
   "cell_type": "markdown",
   "metadata": {},
   "source": [
    "では、量子レジスタと古典レジスタをそれぞれ8個用意して(i.e. qreg[8], creg[8] )、測定用のオペレーター（メーター模様のピンクのゲート）を各量子ビットからのびている線に順番に配置してみましょう。\n",
    "![image of composer2](./fig/composer02.png)"
   ]
  },
  {
   "cell_type": "markdown",
   "metadata": {},
   "source": [
    "この図で示されているのが、「回路」と呼ばれるものです。回路は線の左から右へと時間発展的に量子ビットの状態を操作するものですが、私たちに馴染みのある古典コンピューターの論理回路も量子回路をつかって同じようにつくることができます。\n",
    "ここの例では大したことは起きていません。8個の量子ビットが準備され、それぞれ0から7番目までの番号が割り振られています。各量子ビットに「測定」のオペレーションが適用されており、この「測定」によって'0'または'1'の値が読み取られます。"
   ]
  },
  {
   "cell_type": "markdown",
   "metadata": {},
   "source": [
    "量子ビットは常に0の状態を取るよう初期化されます。そのため、上記回路のように「測定」以外何もしないときは、すべての測定結果は当然'0'になります。Composer左側の'Visualizations'というタブに入って'Status Probabilities'をドロップダウンから選んでください。すると、下記のようなヒストグラムが表示され、すべての量子ビットが'0'を返している様子 (i.e. '00000000')を確認することができます。\n",
    "<img src=\"./fig/histogram01.png\" alt=\"image of histogram\"\n",
    "\ttitle=\"histogram showing results\" width=\"300\" height=\"200\" />"
   ]
  },
  {
   "cell_type": "markdown",
   "metadata": {},
   "source": [
    "'0'以外のビットをエンコードするには、NOTゲートを使います。コンピューターの演算において最も基本的なオペレーションであるNOTゲートは'0'を'1'に、'1'を'0'に反転します。Composerでこれを適用するには、表示されている量子ゲートの中から、Xと表示されている緑色のアイコンを選んで五線譜の上にドラッグ&ドロップします。\n",
    "![image of composer3](./fig/composer03.png)"
   ]
  },
  {
   "cell_type": "markdown",
   "metadata": {},
   "source": [
    "さきほどのヒストグラムが、今度は'10000000'を出力しているのが確認できます。この回路は8-bitのコンピューターと同じです。\n",
    "<img src=\"./fig/histogram02.png\" alt=\"image of histogram\"\n",
    "\ttitle=\"histogram showing results\" width=\"300\" height=\"200\" />"
   ]
  },
  {
   "cell_type": "markdown",
   "metadata": {},
   "source": [
    "ここで反転させているビットは、量子ビット7番に対してであることにもう一度着目してください。そして出力されたビット列の一番左がそれに対応して'1'に反転しています。(i.e., '10000000') つまり、Composerでは番号の大きい量子ビットほど高い位のビット数に対応しています。こうすることで、,7番目の量子ビットは2<sup>7</sup>がいくつあるのか、6番目の量子ビットは2<sup>6</sup>がいくつあるのか、5番目の量子ビットは2<sup>5</sup>がいくつあるのか、という具合に、量子ビットで数を表現しやすくなります。ここでは7番目の量子ビットを反転させて'1'にするで、2<sup>7</sup> = 128をこの8-bitコンピューター上で表現することができました。\n",
    "（量子計算に関する他のサイトや教科書では、逆の表記方法を提示していることも多くありますが、上記表記法には量子ビットで整数を表現する上でメリットがあるので、Composerを使っているときは番号の大きな量子ビット＝高い位のビット数と覚えておきましょう。）"
   ]
  },
  {
   "cell_type": "markdown",
   "metadata": {},
   "source": [
    "# 任意の数値を同じ回路でエンコードしてみよう\n"
   ]
  },
  {
   "cell_type": "markdown",
   "metadata": {},
   "source": [
    "さて、ここで任意の整数をエンコードしてみましょう。その数字がバイナリではどのように表現されるのかは検索して予め確認しておきましょう。（もし結果に'0b'が含まれていた場合はその2桁は切り捨てて左側に'0'を足して全体を8桁にしましょう）<br/>\n",
    "以下は'34'を入力値としてエンコードした場合の回路です。\n",
    "![image of composer4](./fig/composer04.png)"
   ]
  },
  {
   "cell_type": "markdown",
   "metadata": {},
   "source": [
    "ここまで、量子回路をつかって量子コンピューターにどのように情報を入力（エンコード）できるかをみてきました。次のステップ(Week1の演習）ではどのように実際の演算を行う（入力を組み合わせて出力させる）かについてみていきます。"
   ]
  }
 ],
 "metadata": {
  "kernelspec": {
   "display_name": "Python (Qiskitenv)",
   "language": "python",
   "name": "qiskitenv"
  },
  "language_info": {
   "codemirror_mode": {
    "name": "ipython",
    "version": 3
   },
   "file_extension": ".py",
   "mimetype": "text/x-python",
   "name": "python",
   "nbconvert_exporter": "python",
   "pygments_lexer": "ipython3",
   "version": "3.7.3"
  }
 },
 "nbformat": 4,
 "nbformat_minor": 2
}
